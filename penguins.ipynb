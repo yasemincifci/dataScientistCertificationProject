{
  "nbformat": 4,
  "nbformat_minor": 0,
  "metadata": {
    "colab": {
      "provenance": [],
      "toc_visible": true
    },
    "kernelspec": {
      "name": "python3",
      "display_name": "Python 3"
    },
    "language_info": {
      "name": "python"
    }
  },
  "cells": [
    {
      "cell_type": "code",
      "execution_count": null,
      "metadata": {
        "id": "amRAMQEYwxfI"
      },
      "outputs": [],
      "source": [
        "import numpy as np\n",
        "import pandas as pd"
      ]
    },
    {
      "cell_type": "code",
      "source": [
        "df = pd.read_csv(\"penguins.csv\")\n",
        "df.head()"
      ],
      "metadata": {
        "colab": {
          "base_uri": "https://localhost:8080/",
          "height": 206
        },
        "id": "VhP1io2BxLLt",
        "outputId": "6ca9acc5-36a3-4758-df1f-d20d3f330d66"
      },
      "execution_count": null,
      "outputs": [
        {
          "output_type": "execute_result",
          "data": {
            "text/plain": [
              "   Unnamed: 0 species     island  bill_length_mm  bill_depth_mm  \\\n",
              "0           1  Adelie  Torgersen            39.1           18.7   \n",
              "1           2  Adelie  Torgersen            39.5           17.4   \n",
              "2           3  Adelie  Torgersen            40.3           18.0   \n",
              "3           4  Adelie  Torgersen             NaN            NaN   \n",
              "4           5  Adelie  Torgersen            36.7           19.3   \n",
              "\n",
              "   flipper_length_mm  body_mass_g     sex  year  \n",
              "0              181.0       3750.0    male  2007  \n",
              "1              186.0       3800.0  female  2007  \n",
              "2              195.0       3250.0  female  2007  \n",
              "3                NaN          NaN     NaN  2007  \n",
              "4              193.0       3450.0  female  2007  "
            ],
            "text/html": [
              "\n",
              "  <div id=\"df-25dba999-8efb-47f7-816c-fb9457019eee\">\n",
              "    <div class=\"colab-df-container\">\n",
              "      <div>\n",
              "<style scoped>\n",
              "    .dataframe tbody tr th:only-of-type {\n",
              "        vertical-align: middle;\n",
              "    }\n",
              "\n",
              "    .dataframe tbody tr th {\n",
              "        vertical-align: top;\n",
              "    }\n",
              "\n",
              "    .dataframe thead th {\n",
              "        text-align: right;\n",
              "    }\n",
              "</style>\n",
              "<table border=\"1\" class=\"dataframe\">\n",
              "  <thead>\n",
              "    <tr style=\"text-align: right;\">\n",
              "      <th></th>\n",
              "      <th>Unnamed: 0</th>\n",
              "      <th>species</th>\n",
              "      <th>island</th>\n",
              "      <th>bill_length_mm</th>\n",
              "      <th>bill_depth_mm</th>\n",
              "      <th>flipper_length_mm</th>\n",
              "      <th>body_mass_g</th>\n",
              "      <th>sex</th>\n",
              "      <th>year</th>\n",
              "    </tr>\n",
              "  </thead>\n",
              "  <tbody>\n",
              "    <tr>\n",
              "      <th>0</th>\n",
              "      <td>1</td>\n",
              "      <td>Adelie</td>\n",
              "      <td>Torgersen</td>\n",
              "      <td>39.1</td>\n",
              "      <td>18.7</td>\n",
              "      <td>181.0</td>\n",
              "      <td>3750.0</td>\n",
              "      <td>male</td>\n",
              "      <td>2007</td>\n",
              "    </tr>\n",
              "    <tr>\n",
              "      <th>1</th>\n",
              "      <td>2</td>\n",
              "      <td>Adelie</td>\n",
              "      <td>Torgersen</td>\n",
              "      <td>39.5</td>\n",
              "      <td>17.4</td>\n",
              "      <td>186.0</td>\n",
              "      <td>3800.0</td>\n",
              "      <td>female</td>\n",
              "      <td>2007</td>\n",
              "    </tr>\n",
              "    <tr>\n",
              "      <th>2</th>\n",
              "      <td>3</td>\n",
              "      <td>Adelie</td>\n",
              "      <td>Torgersen</td>\n",
              "      <td>40.3</td>\n",
              "      <td>18.0</td>\n",
              "      <td>195.0</td>\n",
              "      <td>3250.0</td>\n",
              "      <td>female</td>\n",
              "      <td>2007</td>\n",
              "    </tr>\n",
              "    <tr>\n",
              "      <th>3</th>\n",
              "      <td>4</td>\n",
              "      <td>Adelie</td>\n",
              "      <td>Torgersen</td>\n",
              "      <td>NaN</td>\n",
              "      <td>NaN</td>\n",
              "      <td>NaN</td>\n",
              "      <td>NaN</td>\n",
              "      <td>NaN</td>\n",
              "      <td>2007</td>\n",
              "    </tr>\n",
              "    <tr>\n",
              "      <th>4</th>\n",
              "      <td>5</td>\n",
              "      <td>Adelie</td>\n",
              "      <td>Torgersen</td>\n",
              "      <td>36.7</td>\n",
              "      <td>19.3</td>\n",
              "      <td>193.0</td>\n",
              "      <td>3450.0</td>\n",
              "      <td>female</td>\n",
              "      <td>2007</td>\n",
              "    </tr>\n",
              "  </tbody>\n",
              "</table>\n",
              "</div>\n",
              "      <button class=\"colab-df-convert\" onclick=\"convertToInteractive('df-25dba999-8efb-47f7-816c-fb9457019eee')\"\n",
              "              title=\"Convert this dataframe to an interactive table.\"\n",
              "              style=\"display:none;\">\n",
              "        \n",
              "  <svg xmlns=\"http://www.w3.org/2000/svg\" height=\"24px\"viewBox=\"0 0 24 24\"\n",
              "       width=\"24px\">\n",
              "    <path d=\"M0 0h24v24H0V0z\" fill=\"none\"/>\n",
              "    <path d=\"M18.56 5.44l.94 2.06.94-2.06 2.06-.94-2.06-.94-.94-2.06-.94 2.06-2.06.94zm-11 1L8.5 8.5l.94-2.06 2.06-.94-2.06-.94L8.5 2.5l-.94 2.06-2.06.94zm10 10l.94 2.06.94-2.06 2.06-.94-2.06-.94-.94-2.06-.94 2.06-2.06.94z\"/><path d=\"M17.41 7.96l-1.37-1.37c-.4-.4-.92-.59-1.43-.59-.52 0-1.04.2-1.43.59L10.3 9.45l-7.72 7.72c-.78.78-.78 2.05 0 2.83L4 21.41c.39.39.9.59 1.41.59.51 0 1.02-.2 1.41-.59l7.78-7.78 2.81-2.81c.8-.78.8-2.07 0-2.86zM5.41 20L4 18.59l7.72-7.72 1.47 1.35L5.41 20z\"/>\n",
              "  </svg>\n",
              "      </button>\n",
              "      \n",
              "  <style>\n",
              "    .colab-df-container {\n",
              "      display:flex;\n",
              "      flex-wrap:wrap;\n",
              "      gap: 12px;\n",
              "    }\n",
              "\n",
              "    .colab-df-convert {\n",
              "      background-color: #E8F0FE;\n",
              "      border: none;\n",
              "      border-radius: 50%;\n",
              "      cursor: pointer;\n",
              "      display: none;\n",
              "      fill: #1967D2;\n",
              "      height: 32px;\n",
              "      padding: 0 0 0 0;\n",
              "      width: 32px;\n",
              "    }\n",
              "\n",
              "    .colab-df-convert:hover {\n",
              "      background-color: #E2EBFA;\n",
              "      box-shadow: 0px 1px 2px rgba(60, 64, 67, 0.3), 0px 1px 3px 1px rgba(60, 64, 67, 0.15);\n",
              "      fill: #174EA6;\n",
              "    }\n",
              "\n",
              "    [theme=dark] .colab-df-convert {\n",
              "      background-color: #3B4455;\n",
              "      fill: #D2E3FC;\n",
              "    }\n",
              "\n",
              "    [theme=dark] .colab-df-convert:hover {\n",
              "      background-color: #434B5C;\n",
              "      box-shadow: 0px 1px 3px 1px rgba(0, 0, 0, 0.15);\n",
              "      filter: drop-shadow(0px 1px 2px rgba(0, 0, 0, 0.3));\n",
              "      fill: #FFFFFF;\n",
              "    }\n",
              "  </style>\n",
              "\n",
              "      <script>\n",
              "        const buttonEl =\n",
              "          document.querySelector('#df-25dba999-8efb-47f7-816c-fb9457019eee button.colab-df-convert');\n",
              "        buttonEl.style.display =\n",
              "          google.colab.kernel.accessAllowed ? 'block' : 'none';\n",
              "\n",
              "        async function convertToInteractive(key) {\n",
              "          const element = document.querySelector('#df-25dba999-8efb-47f7-816c-fb9457019eee');\n",
              "          const dataTable =\n",
              "            await google.colab.kernel.invokeFunction('convertToInteractive',\n",
              "                                                     [key], {});\n",
              "          if (!dataTable) return;\n",
              "\n",
              "          const docLinkHtml = 'Like what you see? Visit the ' +\n",
              "            '<a target=\"_blank\" href=https://colab.research.google.com/notebooks/data_table.ipynb>data table notebook</a>'\n",
              "            + ' to learn more about interactive tables.';\n",
              "          element.innerHTML = '';\n",
              "          dataTable['output_type'] = 'display_data';\n",
              "          await google.colab.output.renderOutput(dataTable, element);\n",
              "          const docLink = document.createElement('div');\n",
              "          docLink.innerHTML = docLinkHtml;\n",
              "          element.appendChild(docLink);\n",
              "        }\n",
              "      </script>\n",
              "    </div>\n",
              "  </div>\n",
              "  "
            ]
          },
          "metadata": {},
          "execution_count": 2
        }
      ]
    },
    {
      "cell_type": "code",
      "source": [
        "del df[\"Unnamed: 0\"]"
      ],
      "metadata": {
        "id": "eDFUY9ZhN7Gz"
      },
      "execution_count": null,
      "outputs": []
    },
    {
      "cell_type": "code",
      "source": [
        "df.info()"
      ],
      "metadata": {
        "colab": {
          "base_uri": "https://localhost:8080/"
        },
        "id": "L97Xm7mNxjzI",
        "outputId": "d5fdc7f7-cba4-48c3-c739-ac37b6ff7ab6"
      },
      "execution_count": null,
      "outputs": [
        {
          "output_type": "stream",
          "name": "stdout",
          "text": [
            "<class 'pandas.core.frame.DataFrame'>\n",
            "RangeIndex: 344 entries, 0 to 343\n",
            "Data columns (total 8 columns):\n",
            " #   Column             Non-Null Count  Dtype  \n",
            "---  ------             --------------  -----  \n",
            " 0   species            344 non-null    object \n",
            " 1   island             344 non-null    object \n",
            " 2   bill_length_mm     342 non-null    float64\n",
            " 3   bill_depth_mm      342 non-null    float64\n",
            " 4   flipper_length_mm  342 non-null    float64\n",
            " 5   body_mass_g        342 non-null    float64\n",
            " 6   sex                333 non-null    object \n",
            " 7   year               344 non-null    int64  \n",
            "dtypes: float64(4), int64(1), object(3)\n",
            "memory usage: 21.6+ KB\n"
          ]
        }
      ]
    },
    {
      "cell_type": "code",
      "source": [
        "df.species.unique()"
      ],
      "metadata": {
        "colab": {
          "base_uri": "https://localhost:8080/"
        },
        "id": "tRZJESX8xuJa",
        "outputId": "b0a11863-4021-4e53-f9bd-bc5192a0268b"
      },
      "execution_count": null,
      "outputs": [
        {
          "output_type": "execute_result",
          "data": {
            "text/plain": [
              "array(['Adelie', 'Gentoo', 'Chinstrap'], dtype=object)"
            ]
          },
          "metadata": {},
          "execution_count": 5
        }
      ]
    },
    {
      "cell_type": "code",
      "source": [
        "df.island.unique()"
      ],
      "metadata": {
        "colab": {
          "base_uri": "https://localhost:8080/"
        },
        "id": "hUZSIBqMzPNn",
        "outputId": "054d8e8c-233b-459b-a3ee-4b0611bfa3fc"
      },
      "execution_count": null,
      "outputs": [
        {
          "output_type": "execute_result",
          "data": {
            "text/plain": [
              "array(['Torgersen', 'Biscoe', 'Dream'], dtype=object)"
            ]
          },
          "metadata": {},
          "execution_count": 6
        }
      ]
    },
    {
      "cell_type": "code",
      "source": [
        "df.year.unique()"
      ],
      "metadata": {
        "colab": {
          "base_uri": "https://localhost:8080/"
        },
        "id": "i37-fMsz08uS",
        "outputId": "bb85505a-e1ee-4b58-bc8b-a58b08cd6439"
      },
      "execution_count": null,
      "outputs": [
        {
          "output_type": "execute_result",
          "data": {
            "text/plain": [
              "array([2007, 2008, 2009])"
            ]
          },
          "metadata": {},
          "execution_count": 7
        }
      ]
    },
    {
      "cell_type": "code",
      "source": [
        "df.isnull().sum()"
      ],
      "metadata": {
        "colab": {
          "base_uri": "https://localhost:8080/"
        },
        "id": "zHEnkhWSzi8S",
        "outputId": "65d4818b-7c1e-44d2-b7eb-2968d7caab24"
      },
      "execution_count": null,
      "outputs": [
        {
          "output_type": "execute_result",
          "data": {
            "text/plain": [
              "species               0\n",
              "island                0\n",
              "bill_length_mm        2\n",
              "bill_depth_mm         2\n",
              "flipper_length_mm     2\n",
              "body_mass_g           2\n",
              "sex                  11\n",
              "year                  0\n",
              "dtype: int64"
            ]
          },
          "metadata": {},
          "execution_count": 8
        }
      ]
    },
    {
      "cell_type": "code",
      "source": [
        "df1 = df.dropna()"
      ],
      "metadata": {
        "id": "IjIE0jnxCBZV"
      },
      "execution_count": null,
      "outputs": []
    },
    {
      "cell_type": "code",
      "source": [
        "import pandas.api.types as ptp"
      ],
      "metadata": {
        "id": "NqVTCxDQ1xj9"
      },
      "execution_count": null,
      "outputs": []
    },
    {
      "cell_type": "code",
      "source": [
        "for column_name, column_content in df1.items():\n",
        "    if ptp.is_string_dtype(column_content):\n",
        "        print(column_name)"
      ],
      "metadata": {
        "id": "hvGZFaEL14T8",
        "colab": {
          "base_uri": "https://localhost:8080/"
        },
        "outputId": "83958eae-3c20-4214-b71c-daf365f86fa7"
      },
      "execution_count": null,
      "outputs": [
        {
          "output_type": "stream",
          "name": "stdout",
          "text": [
            "species\n",
            "island\n",
            "sex\n"
          ]
        }
      ]
    },
    {
      "cell_type": "code",
      "source": [
        "for column_name, column_content in df1.iteritems():\n",
        "  if pd.api.types.is_string_dtype(column_content):\n",
        "    df1[column_name] = column_content.astype(\"category\")"
      ],
      "metadata": {
        "id": "NJtX8YV252KV",
        "colab": {
          "base_uri": "https://localhost:8080/"
        },
        "outputId": "6ca926aa-a74d-4f0e-c2cf-9567672bae81"
      },
      "execution_count": null,
      "outputs": [
        {
          "output_type": "stream",
          "name": "stderr",
          "text": [
            "<ipython-input-12-6e4b60cefb40>:3: SettingWithCopyWarning: \n",
            "A value is trying to be set on a copy of a slice from a DataFrame.\n",
            "Try using .loc[row_indexer,col_indexer] = value instead\n",
            "\n",
            "See the caveats in the documentation: https://pandas.pydata.org/pandas-docs/stable/user_guide/indexing.html#returning-a-view-versus-a-copy\n",
            "  df1[column_name] = column_content.astype(\"category\")\n"
          ]
        }
      ]
    },
    {
      "cell_type": "code",
      "source": [
        "for column_name, column_content in df1.items():\n",
        "    if not ptp.is_numeric_dtype(column_content):\n",
        "        df1[column_name] = df1[column_name].cat.codes\n",
        "\n",
        "df1.info()"
      ],
      "metadata": {
        "colab": {
          "base_uri": "https://localhost:8080/"
        },
        "id": "mgWZOZqK1mPQ",
        "outputId": "a13bea0d-7b42-4b1a-de2e-da3fe165e1d8"
      },
      "execution_count": null,
      "outputs": [
        {
          "output_type": "stream",
          "name": "stdout",
          "text": [
            "<class 'pandas.core.frame.DataFrame'>\n",
            "Int64Index: 333 entries, 0 to 343\n",
            "Data columns (total 8 columns):\n",
            " #   Column             Non-Null Count  Dtype  \n",
            "---  ------             --------------  -----  \n",
            " 0   species            333 non-null    int8   \n",
            " 1   island             333 non-null    int8   \n",
            " 2   bill_length_mm     333 non-null    float64\n",
            " 3   bill_depth_mm      333 non-null    float64\n",
            " 4   flipper_length_mm  333 non-null    float64\n",
            " 5   body_mass_g        333 non-null    float64\n",
            " 6   sex                333 non-null    int8   \n",
            " 7   year               333 non-null    int64  \n",
            "dtypes: float64(4), int64(1), int8(3)\n",
            "memory usage: 16.6 KB\n"
          ]
        },
        {
          "output_type": "stream",
          "name": "stderr",
          "text": [
            "<ipython-input-13-38a74a79c9fe>:3: SettingWithCopyWarning: \n",
            "A value is trying to be set on a copy of a slice from a DataFrame.\n",
            "Try using .loc[row_indexer,col_indexer] = value instead\n",
            "\n",
            "See the caveats in the documentation: https://pandas.pydata.org/pandas-docs/stable/user_guide/indexing.html#returning-a-view-versus-a-copy\n",
            "  df1[column_name] = df1[column_name].cat.codes\n"
          ]
        }
      ]
    },
    {
      "cell_type": "code",
      "source": [
        "from sklearn.model_selection import train_test_split"
      ],
      "metadata": {
        "id": "bcXOcuTtNzWF"
      },
      "execution_count": null,
      "outputs": []
    },
    {
      "cell_type": "code",
      "source": [
        "X = df1.drop(\"species\", axis=1)\n",
        "y = df1.species\n",
        "\n",
        "X_train, X_test, y_train, y_test = train_test_split(X,y, test_size = 0.2, random_state=42)\n",
        "\n",
        "mu = X_train.mean(axis = 0)\n",
        "sigma = X_train.std(axis = 0)\n",
        "\n",
        "X_train = (X_train - mu) / sigma\n",
        "X_test = (X_test - mu) / sigma\n",
        "X_train.shape"
      ],
      "metadata": {
        "colab": {
          "base_uri": "https://localhost:8080/"
        },
        "id": "Av6ASMa5PnX-",
        "outputId": "ee84575d-a4b4-4b3a-ae3a-99ba99bf4627"
      },
      "execution_count": null,
      "outputs": [
        {
          "output_type": "execute_result",
          "data": {
            "text/plain": [
              "(266, 7)"
            ]
          },
          "metadata": {},
          "execution_count": 49
        }
      ]
    },
    {
      "cell_type": "code",
      "source": [
        "from sklearn.ensemble import RandomForestRegressor\n",
        "rf_regressor = RandomForestRegressor()"
      ],
      "metadata": {
        "id": "1SlXRUspPwXq"
      },
      "execution_count": null,
      "outputs": []
    },
    {
      "cell_type": "code",
      "source": [
        "%%time\n",
        "rf_regressor.fit(X_train, y_train)"
      ],
      "metadata": {
        "colab": {
          "base_uri": "https://localhost:8080/"
        },
        "id": "E8iBjSQzQHb4",
        "outputId": "58d8fd7a-18d5-41f0-c7e8-e367d52c7f93"
      },
      "execution_count": null,
      "outputs": [
        {
          "output_type": "stream",
          "name": "stdout",
          "text": [
            "CPU times: user 170 ms, sys: 1.57 ms, total: 171 ms\n",
            "Wall time: 180 ms\n"
          ]
        },
        {
          "output_type": "execute_result",
          "data": {
            "text/plain": [
              "RandomForestRegressor()"
            ]
          },
          "metadata": {},
          "execution_count": 17
        }
      ]
    },
    {
      "cell_type": "code",
      "source": [
        "rf_regressor.score(X_test, y_test)"
      ],
      "metadata": {
        "colab": {
          "base_uri": "https://localhost:8080/"
        },
        "id": "zmv-1DSkQipe",
        "outputId": "7a81eb89-f362-4aa3-cb0a-e64a06b380e2"
      },
      "execution_count": null,
      "outputs": [
        {
          "output_type": "execute_result",
          "data": {
            "text/plain": [
              "0.9804529543994862"
            ]
          },
          "metadata": {},
          "execution_count": 18
        }
      ]
    },
    {
      "cell_type": "code",
      "source": [
        "rf_regressor.score(X_train, y_train)"
      ],
      "metadata": {
        "colab": {
          "base_uri": "https://localhost:8080/"
        },
        "id": "vYRzwpsaQ6QH",
        "outputId": "96a92563-e485-47d1-a930-8fe0edb04ba6"
      },
      "execution_count": null,
      "outputs": [
        {
          "output_type": "execute_result",
          "data": {
            "text/plain": [
              "0.9947004400977996"
            ]
          },
          "metadata": {},
          "execution_count": 19
        }
      ]
    },
    {
      "cell_type": "code",
      "source": [
        "y_pred = rf_regressor.predict(X_test)"
      ],
      "metadata": {
        "id": "hPLM4rGiRNQf"
      },
      "execution_count": null,
      "outputs": []
    },
    {
      "cell_type": "code",
      "source": [
        "from sklearn.metrics import mean_absolute_error, mean_squared_log_error, r2_score\n",
        "\n",
        "def rmsle(y_test, y_pred):\n",
        "  return np.sqrt(mean_squared_log_error(y_test, y_pred))"
      ],
      "metadata": {
        "id": "xv6r4Ss5Rrhx"
      },
      "execution_count": null,
      "outputs": []
    },
    {
      "cell_type": "code",
      "source": [
        "rmsle(y_test, y_pred)"
      ],
      "metadata": {
        "colab": {
          "base_uri": "https://localhost:8080/"
        },
        "id": "VPazZRuvSDVi",
        "outputId": "fd4f22b8-ba64-4f62-963b-7b41d4a65202"
      },
      "execution_count": null,
      "outputs": [
        {
          "output_type": "execute_result",
          "data": {
            "text/plain": [
              "0.08565473036424649"
            ]
          },
          "metadata": {},
          "execution_count": 22
        }
      ]
    },
    {
      "cell_type": "code",
      "source": [
        "import tensorflow as tf\n",
        "from tensorflow import keras\n",
        "from tensorflow.keras import layers\n",
        "from sklearn.model_selection import train_test_split"
      ],
      "metadata": {
        "id": "8JpL6ymaZxej"
      },
      "execution_count": null,
      "outputs": []
    },
    {
      "cell_type": "code",
      "source": [
        "mdl = keras.Sequential()\n",
        "\n",
        "mdl.add(layers.Dense(128, activation = \"relu\", input_shape = (X_train.shape[1],) ))\n",
        "mdl.add(layers.Dense(64, activation = \"relu\"))\n",
        "mdl.add(layers.Dense(3, activation = \"linear\"))\n",
        "\n",
        "mdl.compile(optimizer = \"adam\", loss = \"mse\", metrics = [\"mape\"])\n",
        "mdl.fit(X_train, y_train, epochs=100)"
      ],
      "metadata": {
        "colab": {
          "base_uri": "https://localhost:8080/"
        },
        "id": "vUnlRerBeWiO",
        "outputId": "7c8ab039-4b49-4198-a836-758455710dca"
      },
      "execution_count": null,
      "outputs": [
        {
          "output_type": "stream",
          "name": "stdout",
          "text": [
            "Epoch 1/100\n",
            "9/9 [==============================] - 1s 4ms/step - loss: 1.6041 - mape: 79721672.0000\n",
            "Epoch 2/100\n",
            "9/9 [==============================] - 0s 3ms/step - loss: 0.7756 - mape: 128573296.0000\n",
            "Epoch 3/100\n",
            "9/9 [==============================] - 0s 3ms/step - loss: 0.3026 - mape: 145459744.0000\n",
            "Epoch 4/100\n",
            "9/9 [==============================] - 0s 3ms/step - loss: 0.1167 - mape: 94020120.0000\n",
            "Epoch 5/100\n",
            "9/9 [==============================] - 0s 3ms/step - loss: 0.0846 - mape: 73636696.0000\n",
            "Epoch 6/100\n",
            "9/9 [==============================] - 0s 4ms/step - loss: 0.0602 - mape: 68198896.0000\n",
            "Epoch 7/100\n",
            "9/9 [==============================] - 0s 4ms/step - loss: 0.0477 - mape: 63787900.0000\n",
            "Epoch 8/100\n",
            "9/9 [==============================] - 0s 3ms/step - loss: 0.0435 - mape: 62873576.0000\n",
            "Epoch 9/100\n",
            "9/9 [==============================] - 0s 3ms/step - loss: 0.0396 - mape: 55985516.0000\n",
            "Epoch 10/100\n",
            "9/9 [==============================] - 0s 4ms/step - loss: 0.0366 - mape: 51609984.0000\n",
            "Epoch 11/100\n",
            "9/9 [==============================] - 0s 3ms/step - loss: 0.0340 - mape: 47625744.0000\n",
            "Epoch 12/100\n",
            "9/9 [==============================] - 0s 3ms/step - loss: 0.0323 - mape: 45485460.0000\n",
            "Epoch 13/100\n",
            "9/9 [==============================] - 0s 4ms/step - loss: 0.0305 - mape: 43094592.0000\n",
            "Epoch 14/100\n",
            "9/9 [==============================] - 0s 3ms/step - loss: 0.0288 - mape: 41138792.0000\n",
            "Epoch 15/100\n",
            "9/9 [==============================] - 0s 3ms/step - loss: 0.0280 - mape: 38562388.0000\n",
            "Epoch 16/100\n",
            "9/9 [==============================] - 0s 3ms/step - loss: 0.0265 - mape: 38181644.0000\n",
            "Epoch 17/100\n",
            "9/9 [==============================] - 0s 3ms/step - loss: 0.0251 - mape: 38442176.0000\n",
            "Epoch 18/100\n",
            "9/9 [==============================] - 0s 5ms/step - loss: 0.0241 - mape: 34597968.0000\n",
            "Epoch 19/100\n",
            "9/9 [==============================] - 0s 5ms/step - loss: 0.0228 - mape: 33515320.0000\n",
            "Epoch 20/100\n",
            "9/9 [==============================] - 0s 5ms/step - loss: 0.0218 - mape: 33364808.0000\n",
            "Epoch 21/100\n",
            "9/9 [==============================] - 0s 4ms/step - loss: 0.0209 - mape: 30762386.0000\n",
            "Epoch 22/100\n",
            "9/9 [==============================] - 0s 4ms/step - loss: 0.0197 - mape: 30204688.0000\n",
            "Epoch 23/100\n",
            "9/9 [==============================] - 0s 4ms/step - loss: 0.0188 - mape: 29893720.0000\n",
            "Epoch 24/100\n",
            "9/9 [==============================] - 0s 3ms/step - loss: 0.0182 - mape: 29628770.0000\n",
            "Epoch 25/100\n",
            "9/9 [==============================] - 0s 3ms/step - loss: 0.0179 - mape: 28405126.0000\n",
            "Epoch 26/100\n",
            "9/9 [==============================] - 0s 3ms/step - loss: 0.0165 - mape: 28374490.0000\n",
            "Epoch 27/100\n",
            "9/9 [==============================] - 0s 3ms/step - loss: 0.0160 - mape: 27422000.0000\n",
            "Epoch 28/100\n",
            "9/9 [==============================] - 0s 3ms/step - loss: 0.0156 - mape: 27010412.0000\n",
            "Epoch 29/100\n",
            "9/9 [==============================] - 0s 3ms/step - loss: 0.0147 - mape: 25395114.0000\n",
            "Epoch 30/100\n",
            "9/9 [==============================] - 0s 3ms/step - loss: 0.0142 - mape: 24584436.0000\n",
            "Epoch 31/100\n",
            "9/9 [==============================] - 0s 3ms/step - loss: 0.0138 - mape: 24523112.0000\n",
            "Epoch 32/100\n",
            "9/9 [==============================] - 0s 3ms/step - loss: 0.0131 - mape: 24195348.0000\n",
            "Epoch 33/100\n",
            "9/9 [==============================] - 0s 3ms/step - loss: 0.0126 - mape: 24096058.0000\n",
            "Epoch 34/100\n",
            "9/9 [==============================] - 0s 3ms/step - loss: 0.0121 - mape: 22972032.0000\n",
            "Epoch 35/100\n",
            "9/9 [==============================] - 0s 3ms/step - loss: 0.0116 - mape: 22736922.0000\n",
            "Epoch 36/100\n",
            "9/9 [==============================] - 0s 3ms/step - loss: 0.0117 - mape: 23821834.0000\n",
            "Epoch 37/100\n",
            "9/9 [==============================] - 0s 4ms/step - loss: 0.0109 - mape: 22654460.0000\n",
            "Epoch 38/100\n",
            "9/9 [==============================] - 0s 4ms/step - loss: 0.0105 - mape: 21784848.0000\n",
            "Epoch 39/100\n",
            "9/9 [==============================] - 0s 5ms/step - loss: 0.0100 - mape: 21760446.0000\n",
            "Epoch 40/100\n",
            "9/9 [==============================] - 0s 3ms/step - loss: 0.0096 - mape: 21070156.0000\n",
            "Epoch 41/100\n",
            "9/9 [==============================] - 0s 4ms/step - loss: 0.0091 - mape: 20934636.0000\n",
            "Epoch 42/100\n",
            "9/9 [==============================] - 0s 4ms/step - loss: 0.0088 - mape: 19578316.0000\n",
            "Epoch 43/100\n",
            "9/9 [==============================] - 0s 3ms/step - loss: 0.0085 - mape: 20193992.0000\n",
            "Epoch 44/100\n",
            "9/9 [==============================] - 0s 3ms/step - loss: 0.0081 - mape: 19585112.0000\n",
            "Epoch 45/100\n",
            "9/9 [==============================] - 0s 5ms/step - loss: 0.0079 - mape: 18962640.0000\n",
            "Epoch 46/100\n",
            "9/9 [==============================] - 0s 3ms/step - loss: 0.0077 - mape: 18281880.0000\n",
            "Epoch 47/100\n",
            "9/9 [==============================] - 0s 3ms/step - loss: 0.0072 - mape: 18182120.0000\n",
            "Epoch 48/100\n",
            "9/9 [==============================] - 0s 4ms/step - loss: 0.0074 - mape: 21003144.0000\n",
            "Epoch 49/100\n",
            "9/9 [==============================] - 0s 3ms/step - loss: 0.0071 - mape: 18529830.0000\n",
            "Epoch 50/100\n",
            "9/9 [==============================] - 0s 3ms/step - loss: 0.0065 - mape: 17752912.0000\n",
            "Epoch 51/100\n",
            "9/9 [==============================] - 0s 4ms/step - loss: 0.0062 - mape: 17982930.0000\n",
            "Epoch 52/100\n",
            "9/9 [==============================] - 0s 3ms/step - loss: 0.0059 - mape: 17362078.0000\n",
            "Epoch 53/100\n",
            "9/9 [==============================] - 0s 3ms/step - loss: 0.0060 - mape: 16486810.0000\n",
            "Epoch 54/100\n",
            "9/9 [==============================] - 0s 3ms/step - loss: 0.0054 - mape: 17353810.0000\n",
            "Epoch 55/100\n",
            "9/9 [==============================] - 0s 3ms/step - loss: 0.0054 - mape: 16742211.0000\n",
            "Epoch 56/100\n",
            "9/9 [==============================] - 0s 3ms/step - loss: 0.0053 - mape: 16233010.0000\n",
            "Epoch 57/100\n",
            "9/9 [==============================] - 0s 3ms/step - loss: 0.0048 - mape: 16163109.0000\n",
            "Epoch 58/100\n",
            "9/9 [==============================] - 0s 3ms/step - loss: 0.0048 - mape: 15968265.0000\n",
            "Epoch 59/100\n",
            "9/9 [==============================] - 0s 3ms/step - loss: 0.0044 - mape: 16148998.0000\n",
            "Epoch 60/100\n",
            "9/9 [==============================] - 0s 3ms/step - loss: 0.0045 - mape: 16725773.0000\n",
            "Epoch 61/100\n",
            "9/9 [==============================] - 0s 3ms/step - loss: 0.0040 - mape: 15485207.0000\n",
            "Epoch 62/100\n",
            "9/9 [==============================] - 0s 3ms/step - loss: 0.0037 - mape: 14535283.0000\n",
            "Epoch 63/100\n",
            "9/9 [==============================] - 0s 4ms/step - loss: 0.0035 - mape: 14836862.0000\n",
            "Epoch 64/100\n",
            "9/9 [==============================] - 0s 3ms/step - loss: 0.0034 - mape: 14342052.0000\n",
            "Epoch 65/100\n",
            "9/9 [==============================] - 0s 3ms/step - loss: 0.0033 - mape: 13792365.0000\n",
            "Epoch 66/100\n",
            "9/9 [==============================] - 0s 4ms/step - loss: 0.0033 - mape: 13538737.0000\n",
            "Epoch 67/100\n",
            "9/9 [==============================] - 0s 3ms/step - loss: 0.0031 - mape: 14634972.0000\n",
            "Epoch 68/100\n",
            "9/9 [==============================] - 0s 3ms/step - loss: 0.0029 - mape: 13807867.0000\n",
            "Epoch 69/100\n",
            "9/9 [==============================] - 0s 3ms/step - loss: 0.0028 - mape: 13445624.0000\n",
            "Epoch 70/100\n",
            "9/9 [==============================] - 0s 4ms/step - loss: 0.0027 - mape: 13276341.0000\n",
            "Epoch 71/100\n",
            "9/9 [==============================] - 0s 3ms/step - loss: 0.0026 - mape: 12886897.0000\n",
            "Epoch 72/100\n",
            "9/9 [==============================] - 0s 3ms/step - loss: 0.0025 - mape: 13427960.0000\n",
            "Epoch 73/100\n",
            "9/9 [==============================] - 0s 3ms/step - loss: 0.0024 - mape: 12584594.0000\n",
            "Epoch 74/100\n",
            "9/9 [==============================] - 0s 3ms/step - loss: 0.0023 - mape: 12228699.0000\n",
            "Epoch 75/100\n",
            "9/9 [==============================] - 0s 3ms/step - loss: 0.0021 - mape: 12085260.0000\n",
            "Epoch 76/100\n",
            "9/9 [==============================] - 0s 3ms/step - loss: 0.0021 - mape: 12109321.0000\n",
            "Epoch 77/100\n",
            "9/9 [==============================] - 0s 3ms/step - loss: 0.0021 - mape: 11566106.0000\n",
            "Epoch 78/100\n",
            "9/9 [==============================] - 0s 3ms/step - loss: 0.0021 - mape: 12770709.0000\n",
            "Epoch 79/100\n",
            "9/9 [==============================] - 0s 3ms/step - loss: 0.0020 - mape: 12545718.0000\n",
            "Epoch 80/100\n",
            "9/9 [==============================] - 0s 3ms/step - loss: 0.0019 - mape: 12145980.0000\n",
            "Epoch 81/100\n",
            "9/9 [==============================] - 0s 4ms/step - loss: 0.0018 - mape: 11669899.0000\n",
            "Epoch 82/100\n",
            "9/9 [==============================] - 0s 3ms/step - loss: 0.0018 - mape: 11213945.0000\n",
            "Epoch 83/100\n",
            "9/9 [==============================] - 0s 3ms/step - loss: 0.0018 - mape: 12029337.0000\n",
            "Epoch 84/100\n",
            "9/9 [==============================] - 0s 3ms/step - loss: 0.0016 - mape: 11168920.0000\n",
            "Epoch 85/100\n",
            "9/9 [==============================] - 0s 3ms/step - loss: 0.0016 - mape: 10765892.0000\n",
            "Epoch 86/100\n",
            "9/9 [==============================] - 0s 3ms/step - loss: 0.0015 - mape: 10676975.0000\n",
            "Epoch 87/100\n",
            "9/9 [==============================] - 0s 3ms/step - loss: 0.0015 - mape: 10390006.0000\n",
            "Epoch 88/100\n",
            "9/9 [==============================] - 0s 3ms/step - loss: 0.0015 - mape: 10234361.0000\n",
            "Epoch 89/100\n",
            "9/9 [==============================] - 0s 3ms/step - loss: 0.0014 - mape: 10699072.0000\n",
            "Epoch 90/100\n",
            "9/9 [==============================] - 0s 3ms/step - loss: 0.0015 - mape: 10409892.0000\n",
            "Epoch 91/100\n",
            "9/9 [==============================] - 0s 4ms/step - loss: 0.0015 - mape: 10719674.0000\n",
            "Epoch 92/100\n",
            "9/9 [==============================] - 0s 3ms/step - loss: 0.0016 - mape: 10980715.0000\n",
            "Epoch 93/100\n",
            "9/9 [==============================] - 0s 3ms/step - loss: 0.0014 - mape: 9980019.0000\n",
            "Epoch 94/100\n",
            "9/9 [==============================] - 0s 3ms/step - loss: 0.0012 - mape: 9658212.0000\n",
            "Epoch 95/100\n",
            "9/9 [==============================] - 0s 3ms/step - loss: 0.0013 - mape: 9841187.0000\n",
            "Epoch 96/100\n",
            "9/9 [==============================] - 0s 5ms/step - loss: 0.0013 - mape: 9861111.0000\n",
            "Epoch 97/100\n",
            "9/9 [==============================] - 0s 3ms/step - loss: 0.0011 - mape: 9002962.0000\n",
            "Epoch 98/100\n",
            "9/9 [==============================] - 0s 3ms/step - loss: 0.0011 - mape: 8753287.0000\n",
            "Epoch 99/100\n",
            "9/9 [==============================] - 0s 3ms/step - loss: 0.0010 - mape: 9014202.0000\n",
            "Epoch 100/100\n",
            "9/9 [==============================] - 0s 3ms/step - loss: 0.0011 - mape: 9283563.0000\n"
          ]
        },
        {
          "output_type": "execute_result",
          "data": {
            "text/plain": [
              "<keras.callbacks.History at 0x7f60be94af70>"
            ]
          },
          "metadata": {},
          "execution_count": 24
        }
      ]
    },
    {
      "cell_type": "code",
      "source": [
        "target_column = ['species']\n",
        "predictors = list(set(list(df1.columns))-set(target_column))\n",
        "df1[predictors] = df1[predictors]/df1[predictors].max()\n",
        "df1.describe()"
      ],
      "metadata": {
        "colab": {
          "base_uri": "https://localhost:8080/",
          "height": 404
        },
        "id": "D9yc6GXApYnS",
        "outputId": "cd7853c5-3781-4dda-d7c4-8717f33974da"
      },
      "execution_count": null,
      "outputs": [
        {
          "output_type": "stream",
          "name": "stderr",
          "text": [
            "/usr/local/lib/python3.8/dist-packages/pandas/core/frame.py:3641: SettingWithCopyWarning: \n",
            "A value is trying to be set on a copy of a slice from a DataFrame.\n",
            "Try using .loc[row_indexer,col_indexer] = value instead\n",
            "\n",
            "See the caveats in the documentation: https://pandas.pydata.org/pandas-docs/stable/user_guide/indexing.html#returning-a-view-versus-a-copy\n",
            "  self[k1] = value[k2]\n"
          ]
        },
        {
          "output_type": "execute_result",
          "data": {
            "text/plain": [
              "          species      island  bill_length_mm  bill_depth_mm  \\\n",
              "count  333.000000  333.000000      333.000000     333.000000   \n",
              "mean     0.918919    0.325826        0.738134       0.798366   \n",
              "std      0.889718    0.357358        0.091756       0.091592   \n",
              "min      0.000000    0.000000        0.538591       0.609302   \n",
              "25%      0.000000    0.000000        0.662752       0.725581   \n",
              "50%      1.000000    0.500000        0.746644       0.804651   \n",
              "75%      2.000000    0.500000        0.815436       0.869767   \n",
              "max      2.000000    1.000000        1.000000       1.000000   \n",
              "\n",
              "       flipper_length_mm  body_mass_g         sex        year  \n",
              "count         333.000000   333.000000  333.000000  333.000000  \n",
              "mean            0.869987     0.667787    0.504505    0.999523  \n",
              "std             0.060674     0.127812    0.500732    0.000405  \n",
              "min             0.744589     0.428571    0.000000    0.999004  \n",
              "25%             0.822511     0.563492    0.000000    0.999004  \n",
              "50%             0.852814     0.642857    1.000000    0.999502  \n",
              "75%             0.922078     0.757937    1.000000    1.000000  \n",
              "max             1.000000     1.000000    1.000000    1.000000  "
            ],
            "text/html": [
              "\n",
              "  <div id=\"df-a32949c7-8510-4bda-919f-b897ff882593\">\n",
              "    <div class=\"colab-df-container\">\n",
              "      <div>\n",
              "<style scoped>\n",
              "    .dataframe tbody tr th:only-of-type {\n",
              "        vertical-align: middle;\n",
              "    }\n",
              "\n",
              "    .dataframe tbody tr th {\n",
              "        vertical-align: top;\n",
              "    }\n",
              "\n",
              "    .dataframe thead th {\n",
              "        text-align: right;\n",
              "    }\n",
              "</style>\n",
              "<table border=\"1\" class=\"dataframe\">\n",
              "  <thead>\n",
              "    <tr style=\"text-align: right;\">\n",
              "      <th></th>\n",
              "      <th>species</th>\n",
              "      <th>island</th>\n",
              "      <th>bill_length_mm</th>\n",
              "      <th>bill_depth_mm</th>\n",
              "      <th>flipper_length_mm</th>\n",
              "      <th>body_mass_g</th>\n",
              "      <th>sex</th>\n",
              "      <th>year</th>\n",
              "    </tr>\n",
              "  </thead>\n",
              "  <tbody>\n",
              "    <tr>\n",
              "      <th>count</th>\n",
              "      <td>333.000000</td>\n",
              "      <td>333.000000</td>\n",
              "      <td>333.000000</td>\n",
              "      <td>333.000000</td>\n",
              "      <td>333.000000</td>\n",
              "      <td>333.000000</td>\n",
              "      <td>333.000000</td>\n",
              "      <td>333.000000</td>\n",
              "    </tr>\n",
              "    <tr>\n",
              "      <th>mean</th>\n",
              "      <td>0.918919</td>\n",
              "      <td>0.325826</td>\n",
              "      <td>0.738134</td>\n",
              "      <td>0.798366</td>\n",
              "      <td>0.869987</td>\n",
              "      <td>0.667787</td>\n",
              "      <td>0.504505</td>\n",
              "      <td>0.999523</td>\n",
              "    </tr>\n",
              "    <tr>\n",
              "      <th>std</th>\n",
              "      <td>0.889718</td>\n",
              "      <td>0.357358</td>\n",
              "      <td>0.091756</td>\n",
              "      <td>0.091592</td>\n",
              "      <td>0.060674</td>\n",
              "      <td>0.127812</td>\n",
              "      <td>0.500732</td>\n",
              "      <td>0.000405</td>\n",
              "    </tr>\n",
              "    <tr>\n",
              "      <th>min</th>\n",
              "      <td>0.000000</td>\n",
              "      <td>0.000000</td>\n",
              "      <td>0.538591</td>\n",
              "      <td>0.609302</td>\n",
              "      <td>0.744589</td>\n",
              "      <td>0.428571</td>\n",
              "      <td>0.000000</td>\n",
              "      <td>0.999004</td>\n",
              "    </tr>\n",
              "    <tr>\n",
              "      <th>25%</th>\n",
              "      <td>0.000000</td>\n",
              "      <td>0.000000</td>\n",
              "      <td>0.662752</td>\n",
              "      <td>0.725581</td>\n",
              "      <td>0.822511</td>\n",
              "      <td>0.563492</td>\n",
              "      <td>0.000000</td>\n",
              "      <td>0.999004</td>\n",
              "    </tr>\n",
              "    <tr>\n",
              "      <th>50%</th>\n",
              "      <td>1.000000</td>\n",
              "      <td>0.500000</td>\n",
              "      <td>0.746644</td>\n",
              "      <td>0.804651</td>\n",
              "      <td>0.852814</td>\n",
              "      <td>0.642857</td>\n",
              "      <td>1.000000</td>\n",
              "      <td>0.999502</td>\n",
              "    </tr>\n",
              "    <tr>\n",
              "      <th>75%</th>\n",
              "      <td>2.000000</td>\n",
              "      <td>0.500000</td>\n",
              "      <td>0.815436</td>\n",
              "      <td>0.869767</td>\n",
              "      <td>0.922078</td>\n",
              "      <td>0.757937</td>\n",
              "      <td>1.000000</td>\n",
              "      <td>1.000000</td>\n",
              "    </tr>\n",
              "    <tr>\n",
              "      <th>max</th>\n",
              "      <td>2.000000</td>\n",
              "      <td>1.000000</td>\n",
              "      <td>1.000000</td>\n",
              "      <td>1.000000</td>\n",
              "      <td>1.000000</td>\n",
              "      <td>1.000000</td>\n",
              "      <td>1.000000</td>\n",
              "      <td>1.000000</td>\n",
              "    </tr>\n",
              "  </tbody>\n",
              "</table>\n",
              "</div>\n",
              "      <button class=\"colab-df-convert\" onclick=\"convertToInteractive('df-a32949c7-8510-4bda-919f-b897ff882593')\"\n",
              "              title=\"Convert this dataframe to an interactive table.\"\n",
              "              style=\"display:none;\">\n",
              "        \n",
              "  <svg xmlns=\"http://www.w3.org/2000/svg\" height=\"24px\"viewBox=\"0 0 24 24\"\n",
              "       width=\"24px\">\n",
              "    <path d=\"M0 0h24v24H0V0z\" fill=\"none\"/>\n",
              "    <path d=\"M18.56 5.44l.94 2.06.94-2.06 2.06-.94-2.06-.94-.94-2.06-.94 2.06-2.06.94zm-11 1L8.5 8.5l.94-2.06 2.06-.94-2.06-.94L8.5 2.5l-.94 2.06-2.06.94zm10 10l.94 2.06.94-2.06 2.06-.94-2.06-.94-.94-2.06-.94 2.06-2.06.94z\"/><path d=\"M17.41 7.96l-1.37-1.37c-.4-.4-.92-.59-1.43-.59-.52 0-1.04.2-1.43.59L10.3 9.45l-7.72 7.72c-.78.78-.78 2.05 0 2.83L4 21.41c.39.39.9.59 1.41.59.51 0 1.02-.2 1.41-.59l7.78-7.78 2.81-2.81c.8-.78.8-2.07 0-2.86zM5.41 20L4 18.59l7.72-7.72 1.47 1.35L5.41 20z\"/>\n",
              "  </svg>\n",
              "      </button>\n",
              "      \n",
              "  <style>\n",
              "    .colab-df-container {\n",
              "      display:flex;\n",
              "      flex-wrap:wrap;\n",
              "      gap: 12px;\n",
              "    }\n",
              "\n",
              "    .colab-df-convert {\n",
              "      background-color: #E8F0FE;\n",
              "      border: none;\n",
              "      border-radius: 50%;\n",
              "      cursor: pointer;\n",
              "      display: none;\n",
              "      fill: #1967D2;\n",
              "      height: 32px;\n",
              "      padding: 0 0 0 0;\n",
              "      width: 32px;\n",
              "    }\n",
              "\n",
              "    .colab-df-convert:hover {\n",
              "      background-color: #E2EBFA;\n",
              "      box-shadow: 0px 1px 2px rgba(60, 64, 67, 0.3), 0px 1px 3px 1px rgba(60, 64, 67, 0.15);\n",
              "      fill: #174EA6;\n",
              "    }\n",
              "\n",
              "    [theme=dark] .colab-df-convert {\n",
              "      background-color: #3B4455;\n",
              "      fill: #D2E3FC;\n",
              "    }\n",
              "\n",
              "    [theme=dark] .colab-df-convert:hover {\n",
              "      background-color: #434B5C;\n",
              "      box-shadow: 0px 1px 3px 1px rgba(0, 0, 0, 0.15);\n",
              "      filter: drop-shadow(0px 1px 2px rgba(0, 0, 0, 0.3));\n",
              "      fill: #FFFFFF;\n",
              "    }\n",
              "  </style>\n",
              "\n",
              "      <script>\n",
              "        const buttonEl =\n",
              "          document.querySelector('#df-a32949c7-8510-4bda-919f-b897ff882593 button.colab-df-convert');\n",
              "        buttonEl.style.display =\n",
              "          google.colab.kernel.accessAllowed ? 'block' : 'none';\n",
              "\n",
              "        async function convertToInteractive(key) {\n",
              "          const element = document.querySelector('#df-a32949c7-8510-4bda-919f-b897ff882593');\n",
              "          const dataTable =\n",
              "            await google.colab.kernel.invokeFunction('convertToInteractive',\n",
              "                                                     [key], {});\n",
              "          if (!dataTable) return;\n",
              "\n",
              "          const docLinkHtml = 'Like what you see? Visit the ' +\n",
              "            '<a target=\"_blank\" href=https://colab.research.google.com/notebooks/data_table.ipynb>data table notebook</a>'\n",
              "            + ' to learn more about interactive tables.';\n",
              "          element.innerHTML = '';\n",
              "          dataTable['output_type'] = 'display_data';\n",
              "          await google.colab.output.renderOutput(dataTable, element);\n",
              "          const docLink = document.createElement('div');\n",
              "          docLink.innerHTML = docLinkHtml;\n",
              "          element.appendChild(docLink);\n",
              "        }\n",
              "      </script>\n",
              "    </div>\n",
              "  </div>\n",
              "  "
            ]
          },
          "metadata": {},
          "execution_count": 25
        }
      ]
    },
    {
      "cell_type": "code",
      "source": [
        "X = df1[predictors].values\n",
        "y = df1[target_column].values\n",
        "\n",
        "X_train, X_test, y_train, y_test = train_test_split(X, y, test_size=0.30, random_state=40)\n",
        "print(X_train.shape); print(X_test.shape)"
      ],
      "metadata": {
        "colab": {
          "base_uri": "https://localhost:8080/"
        },
        "id": "QpCgaYFVpd9A",
        "outputId": "fcdf285a-d7f5-4fd5-ec76-d7cadfa587c3"
      },
      "execution_count": null,
      "outputs": [
        {
          "output_type": "stream",
          "name": "stdout",
          "text": [
            "(233, 7)\n",
            "(100, 7)\n"
          ]
        }
      ]
    },
    {
      "cell_type": "code",
      "source": [
        "from keras.utils import to_categorical"
      ],
      "metadata": {
        "id": "5xPvm6TESeKr"
      },
      "execution_count": null,
      "outputs": []
    },
    {
      "cell_type": "code",
      "source": [
        "y_train = to_categorical(y_train)\n",
        "y_test = to_categorical(y_test)\n",
        "\n",
        "count_classes = y_test.shape[1]\n",
        "print(count_classes)"
      ],
      "metadata": {
        "colab": {
          "base_uri": "https://localhost:8080/"
        },
        "id": "qDnuqoZRpg9F",
        "outputId": "e26f6fd7-d446-46a3-f201-4c4a7f0c8e2e"
      },
      "execution_count": null,
      "outputs": [
        {
          "output_type": "stream",
          "name": "stdout",
          "text": [
            "3\n"
          ]
        }
      ]
    },
    {
      "cell_type": "code",
      "source": [
        "model = keras.Sequential()\n",
        "\n",
        "model.add(layers.Dense(128, activation='relu', input_dim=7))\n",
        "model.add(layers.Dense(64, activation='relu'))\n",
        "model.add(layers.Dense(3, activation='softmax'))\n",
        "\n",
        "# Compile the model\n",
        "model.compile(optimizer='adam',\n",
        "              loss='categorical_crossentropy',\n",
        "              metrics=['accuracy'])\n",
        "\n"
      ],
      "metadata": {
        "id": "i-GjYlUuhSvz"
      },
      "execution_count": null,
      "outputs": []
    },
    {
      "cell_type": "code",
      "source": [
        "model.fit(X_train, y_train, epochs=100)"
      ],
      "metadata": {
        "colab": {
          "base_uri": "https://localhost:8080/"
        },
        "id": "kheCMnFZibun",
        "outputId": "963d0565-1543-446b-95a4-8b74e181eafe"
      },
      "execution_count": null,
      "outputs": [
        {
          "output_type": "stream",
          "name": "stdout",
          "text": [
            "Epoch 1/100\n",
            "8/8 [==============================] - 1s 3ms/step - loss: 1.0809 - accuracy: 0.4034\n",
            "Epoch 2/100\n",
            "8/8 [==============================] - 0s 3ms/step - loss: 0.9936 - accuracy: 0.7082\n",
            "Epoch 3/100\n",
            "8/8 [==============================] - 0s 3ms/step - loss: 0.9439 - accuracy: 0.7768\n",
            "Epoch 4/100\n",
            "8/8 [==============================] - 0s 3ms/step - loss: 0.8954 - accuracy: 0.7167\n",
            "Epoch 5/100\n",
            "8/8 [==============================] - 0s 3ms/step - loss: 0.8459 - accuracy: 0.6695\n",
            "Epoch 6/100\n",
            "8/8 [==============================] - 0s 3ms/step - loss: 0.7983 - accuracy: 0.6738\n",
            "Epoch 7/100\n",
            "8/8 [==============================] - 0s 3ms/step - loss: 0.7472 - accuracy: 0.6652\n",
            "Epoch 8/100\n",
            "8/8 [==============================] - 0s 3ms/step - loss: 0.7061 - accuracy: 0.6652\n",
            "Epoch 9/100\n",
            "8/8 [==============================] - 0s 3ms/step - loss: 0.6675 - accuracy: 0.6652\n",
            "Epoch 10/100\n",
            "8/8 [==============================] - 0s 3ms/step - loss: 0.6384 - accuracy: 0.6996\n",
            "Epoch 11/100\n",
            "8/8 [==============================] - 0s 3ms/step - loss: 0.6019 - accuracy: 0.6695\n",
            "Epoch 12/100\n",
            "8/8 [==============================] - 0s 3ms/step - loss: 0.5789 - accuracy: 0.6652\n",
            "Epoch 13/100\n",
            "8/8 [==============================] - 0s 3ms/step - loss: 0.5521 - accuracy: 0.7082\n",
            "Epoch 14/100\n",
            "8/8 [==============================] - 0s 3ms/step - loss: 0.5306 - accuracy: 0.6953\n",
            "Epoch 15/100\n",
            "8/8 [==============================] - 0s 3ms/step - loss: 0.5116 - accuracy: 0.6996\n",
            "Epoch 16/100\n",
            "8/8 [==============================] - 0s 3ms/step - loss: 0.4993 - accuracy: 0.7854\n",
            "Epoch 17/100\n",
            "8/8 [==============================] - 0s 3ms/step - loss: 0.4838 - accuracy: 0.7082\n",
            "Epoch 18/100\n",
            "8/8 [==============================] - 0s 3ms/step - loss: 0.4541 - accuracy: 0.7682\n",
            "Epoch 19/100\n",
            "8/8 [==============================] - 0s 3ms/step - loss: 0.4399 - accuracy: 0.7940\n",
            "Epoch 20/100\n",
            "8/8 [==============================] - 0s 3ms/step - loss: 0.4158 - accuracy: 0.7940\n",
            "Epoch 21/100\n",
            "8/8 [==============================] - 0s 4ms/step - loss: 0.4033 - accuracy: 0.8112\n",
            "Epoch 22/100\n",
            "8/8 [==============================] - 0s 3ms/step - loss: 0.3873 - accuracy: 0.8026\n",
            "Epoch 23/100\n",
            "8/8 [==============================] - 0s 3ms/step - loss: 0.3706 - accuracy: 0.8884\n",
            "Epoch 24/100\n",
            "8/8 [==============================] - 0s 3ms/step - loss: 0.3577 - accuracy: 0.8326\n",
            "Epoch 25/100\n",
            "8/8 [==============================] - 0s 4ms/step - loss: 0.3334 - accuracy: 0.8197\n",
            "Epoch 26/100\n",
            "8/8 [==============================] - 0s 3ms/step - loss: 0.3162 - accuracy: 0.8369\n",
            "Epoch 27/100\n",
            "8/8 [==============================] - 0s 3ms/step - loss: 0.2973 - accuracy: 0.9442\n",
            "Epoch 28/100\n",
            "8/8 [==============================] - 0s 5ms/step - loss: 0.2851 - accuracy: 1.0000\n",
            "Epoch 29/100\n",
            "8/8 [==============================] - 0s 3ms/step - loss: 0.2673 - accuracy: 0.9013\n",
            "Epoch 30/100\n",
            "8/8 [==============================] - 0s 4ms/step - loss: 0.2559 - accuracy: 0.9871\n",
            "Epoch 31/100\n",
            "8/8 [==============================] - 0s 4ms/step - loss: 0.2348 - accuracy: 0.9742\n",
            "Epoch 32/100\n",
            "8/8 [==============================] - 0s 3ms/step - loss: 0.2216 - accuracy: 0.9828\n",
            "Epoch 33/100\n",
            "8/8 [==============================] - 0s 3ms/step - loss: 0.2108 - accuracy: 0.9828\n",
            "Epoch 34/100\n",
            "8/8 [==============================] - 0s 3ms/step - loss: 0.2022 - accuracy: 0.9657\n",
            "Epoch 35/100\n",
            "8/8 [==============================] - 0s 4ms/step - loss: 0.1924 - accuracy: 1.0000\n",
            "Epoch 36/100\n",
            "8/8 [==============================] - 0s 3ms/step - loss: 0.1802 - accuracy: 0.9871\n",
            "Epoch 37/100\n",
            "8/8 [==============================] - 0s 3ms/step - loss: 0.1735 - accuracy: 0.9785\n",
            "Epoch 38/100\n",
            "8/8 [==============================] - 0s 3ms/step - loss: 0.1646 - accuracy: 0.9871\n",
            "Epoch 39/100\n",
            "8/8 [==============================] - 0s 3ms/step - loss: 0.1529 - accuracy: 1.0000\n",
            "Epoch 40/100\n",
            "8/8 [==============================] - 0s 4ms/step - loss: 0.1453 - accuracy: 0.9957\n",
            "Epoch 41/100\n",
            "8/8 [==============================] - 0s 3ms/step - loss: 0.1417 - accuracy: 0.9914\n",
            "Epoch 42/100\n",
            "8/8 [==============================] - 0s 4ms/step - loss: 0.1316 - accuracy: 0.9957\n",
            "Epoch 43/100\n",
            "8/8 [==============================] - 0s 3ms/step - loss: 0.1274 - accuracy: 0.9957\n",
            "Epoch 44/100\n",
            "8/8 [==============================] - 0s 3ms/step - loss: 0.1198 - accuracy: 0.9957\n",
            "Epoch 45/100\n",
            "8/8 [==============================] - 0s 4ms/step - loss: 0.1153 - accuracy: 1.0000\n",
            "Epoch 46/100\n",
            "8/8 [==============================] - 0s 5ms/step - loss: 0.1267 - accuracy: 0.9742\n",
            "Epoch 47/100\n",
            "8/8 [==============================] - 0s 3ms/step - loss: 0.1199 - accuracy: 0.9785\n",
            "Epoch 48/100\n",
            "8/8 [==============================] - 0s 3ms/step - loss: 0.1047 - accuracy: 0.9871\n",
            "Epoch 49/100\n",
            "8/8 [==============================] - 0s 3ms/step - loss: 0.1002 - accuracy: 0.9957\n",
            "Epoch 50/100\n",
            "8/8 [==============================] - 0s 3ms/step - loss: 0.0940 - accuracy: 0.9914\n",
            "Epoch 51/100\n",
            "8/8 [==============================] - 0s 3ms/step - loss: 0.0890 - accuracy: 1.0000\n",
            "Epoch 52/100\n",
            "8/8 [==============================] - 0s 3ms/step - loss: 0.0857 - accuracy: 1.0000\n",
            "Epoch 53/100\n",
            "8/8 [==============================] - 0s 3ms/step - loss: 0.0834 - accuracy: 0.9914\n",
            "Epoch 54/100\n",
            "8/8 [==============================] - 0s 3ms/step - loss: 0.0804 - accuracy: 1.0000\n",
            "Epoch 55/100\n",
            "8/8 [==============================] - 0s 3ms/step - loss: 0.0770 - accuracy: 1.0000\n",
            "Epoch 56/100\n",
            "8/8 [==============================] - 0s 3ms/step - loss: 0.0820 - accuracy: 0.9871\n",
            "Epoch 57/100\n",
            "8/8 [==============================] - 0s 5ms/step - loss: 0.0780 - accuracy: 0.9957\n",
            "Epoch 58/100\n",
            "8/8 [==============================] - 0s 3ms/step - loss: 0.0731 - accuracy: 0.9957\n",
            "Epoch 59/100\n",
            "8/8 [==============================] - 0s 3ms/step - loss: 0.0678 - accuracy: 1.0000\n",
            "Epoch 60/100\n",
            "8/8 [==============================] - 0s 4ms/step - loss: 0.0680 - accuracy: 0.9914\n",
            "Epoch 61/100\n",
            "8/8 [==============================] - 0s 3ms/step - loss: 0.0638 - accuracy: 1.0000\n",
            "Epoch 62/100\n",
            "8/8 [==============================] - 0s 3ms/step - loss: 0.0613 - accuracy: 0.9957\n",
            "Epoch 63/100\n",
            "8/8 [==============================] - 0s 3ms/step - loss: 0.0591 - accuracy: 1.0000\n",
            "Epoch 64/100\n",
            "8/8 [==============================] - 0s 3ms/step - loss: 0.0607 - accuracy: 0.9957\n",
            "Epoch 65/100\n",
            "8/8 [==============================] - 0s 3ms/step - loss: 0.0566 - accuracy: 0.9914\n",
            "Epoch 66/100\n",
            "8/8 [==============================] - 0s 3ms/step - loss: 0.0538 - accuracy: 0.9957\n",
            "Epoch 67/100\n",
            "8/8 [==============================] - 0s 3ms/step - loss: 0.0523 - accuracy: 1.0000\n",
            "Epoch 68/100\n",
            "8/8 [==============================] - 0s 3ms/step - loss: 0.0510 - accuracy: 1.0000\n",
            "Epoch 69/100\n",
            "8/8 [==============================] - 0s 3ms/step - loss: 0.0505 - accuracy: 0.9957\n",
            "Epoch 70/100\n",
            "8/8 [==============================] - 0s 3ms/step - loss: 0.0491 - accuracy: 1.0000\n",
            "Epoch 71/100\n",
            "8/8 [==============================] - 0s 3ms/step - loss: 0.0473 - accuracy: 0.9914\n",
            "Epoch 72/100\n",
            "8/8 [==============================] - 0s 3ms/step - loss: 0.0480 - accuracy: 0.9957\n",
            "Epoch 73/100\n",
            "8/8 [==============================] - 0s 3ms/step - loss: 0.0470 - accuracy: 0.9914\n",
            "Epoch 74/100\n",
            "8/8 [==============================] - 0s 3ms/step - loss: 0.0496 - accuracy: 0.9914\n",
            "Epoch 75/100\n",
            "8/8 [==============================] - 0s 3ms/step - loss: 0.0487 - accuracy: 0.9914\n",
            "Epoch 76/100\n",
            "8/8 [==============================] - 0s 3ms/step - loss: 0.0430 - accuracy: 0.9957\n",
            "Epoch 77/100\n",
            "8/8 [==============================] - 0s 5ms/step - loss: 0.0409 - accuracy: 0.9957\n",
            "Epoch 78/100\n",
            "8/8 [==============================] - 0s 5ms/step - loss: 0.0430 - accuracy: 0.9957\n",
            "Epoch 79/100\n",
            "8/8 [==============================] - 0s 3ms/step - loss: 0.0426 - accuracy: 0.9914\n",
            "Epoch 80/100\n",
            "8/8 [==============================] - 0s 3ms/step - loss: 0.0409 - accuracy: 1.0000\n",
            "Epoch 81/100\n",
            "8/8 [==============================] - 0s 3ms/step - loss: 0.0378 - accuracy: 1.0000\n",
            "Epoch 82/100\n",
            "8/8 [==============================] - 0s 3ms/step - loss: 0.0364 - accuracy: 1.0000\n",
            "Epoch 83/100\n",
            "8/8 [==============================] - 0s 3ms/step - loss: 0.0381 - accuracy: 0.9914\n",
            "Epoch 84/100\n",
            "8/8 [==============================] - 0s 3ms/step - loss: 0.0551 - accuracy: 0.9828\n",
            "Epoch 85/100\n",
            "8/8 [==============================] - 0s 3ms/step - loss: 0.0607 - accuracy: 0.9785\n",
            "Epoch 86/100\n",
            "8/8 [==============================] - 0s 4ms/step - loss: 0.0551 - accuracy: 0.9871\n",
            "Epoch 87/100\n",
            "8/8 [==============================] - 0s 4ms/step - loss: 0.0432 - accuracy: 0.9914\n",
            "Epoch 88/100\n",
            "8/8 [==============================] - 0s 3ms/step - loss: 0.0392 - accuracy: 0.9957\n",
            "Epoch 89/100\n",
            "8/8 [==============================] - 0s 3ms/step - loss: 0.0425 - accuracy: 0.9871\n",
            "Epoch 90/100\n",
            "8/8 [==============================] - 0s 3ms/step - loss: 0.0379 - accuracy: 0.9957\n",
            "Epoch 91/100\n",
            "8/8 [==============================] - 0s 4ms/step - loss: 0.0347 - accuracy: 0.9957\n",
            "Epoch 92/100\n",
            "8/8 [==============================] - 0s 3ms/step - loss: 0.0327 - accuracy: 0.9957\n",
            "Epoch 93/100\n",
            "8/8 [==============================] - 0s 5ms/step - loss: 0.0311 - accuracy: 1.0000\n",
            "Epoch 94/100\n",
            "8/8 [==============================] - 0s 4ms/step - loss: 0.0329 - accuracy: 0.9957\n",
            "Epoch 95/100\n",
            "8/8 [==============================] - 0s 4ms/step - loss: 0.0299 - accuracy: 1.0000\n",
            "Epoch 96/100\n",
            "8/8 [==============================] - 0s 3ms/step - loss: 0.0290 - accuracy: 1.0000\n",
            "Epoch 97/100\n",
            "8/8 [==============================] - 0s 3ms/step - loss: 0.0306 - accuracy: 0.9914\n",
            "Epoch 98/100\n",
            "8/8 [==============================] - 0s 3ms/step - loss: 0.0283 - accuracy: 1.0000\n",
            "Epoch 99/100\n",
            "8/8 [==============================] - 0s 3ms/step - loss: 0.0285 - accuracy: 1.0000\n",
            "Epoch 100/100\n",
            "8/8 [==============================] - 0s 3ms/step - loss: 0.0290 - accuracy: 0.9914\n"
          ]
        },
        {
          "output_type": "execute_result",
          "data": {
            "text/plain": [
              "<keras.callbacks.History at 0x7f60be6a87c0>"
            ]
          },
          "metadata": {},
          "execution_count": 31
        }
      ]
    },
    {
      "cell_type": "code",
      "source": [
        "model.evaluate(X_train, y_train)\n",
        "model.evaluate(X_test, y_test)"
      ],
      "metadata": {
        "colab": {
          "base_uri": "https://localhost:8080/"
        },
        "id": "XRaGwq5AM-l4",
        "outputId": "e445ecaa-ce24-44a9-a6e1-18e2432bb575"
      },
      "execution_count": null,
      "outputs": [
        {
          "output_type": "stream",
          "name": "stdout",
          "text": [
            "8/8 [==============================] - 0s 2ms/step - loss: 0.0266 - accuracy: 1.0000\n",
            "4/4 [==============================] - 0s 3ms/step - loss: 0.0233 - accuracy: 1.0000\n"
          ]
        },
        {
          "output_type": "execute_result",
          "data": {
            "text/plain": [
              "[0.023259999230504036, 1.0]"
            ]
          },
          "metadata": {},
          "execution_count": 32
        }
      ]
    },
    {
      "cell_type": "code",
      "source": [
        "from sklearn.neural_network import MLPClassifier\n",
        "\n",
        "mlp = MLPClassifier(activation='relu', solver='adam', max_iter=500)\n",
        "mlp.fit(X_train,y_train)\n",
        "\n",
        "y_pred = mlp.predict(X_test)\n",
        "y_pred_train = mlp.predict(X_train)\n"
      ],
      "metadata": {
        "colab": {
          "base_uri": "https://localhost:8080/"
        },
        "id": "-9d7xBxiA4yX",
        "outputId": "cec2e0f8-c210-4161-dedd-8f78cf8272f1"
      },
      "execution_count": null,
      "outputs": [
        {
          "output_type": "stream",
          "name": "stderr",
          "text": [
            "/usr/local/lib/python3.8/dist-packages/sklearn/neural_network/_multilayer_perceptron.py:692: ConvergenceWarning: Stochastic Optimizer: Maximum iterations (500) reached and the optimization hasn't converged yet.\n",
            "  warnings.warn(\n"
          ]
        }
      ]
    },
    {
      "cell_type": "code",
      "source": [
        "from sklearn.metrics import accuracy_score"
      ],
      "metadata": {
        "id": "AwGL2LfiQFEQ"
      },
      "execution_count": null,
      "outputs": []
    },
    {
      "cell_type": "code",
      "source": [
        "test_score = accuracy_score(y_test, y_pred)\n",
        "train_score = accuracy_score(y_train, y_pred_train)"
      ],
      "metadata": {
        "id": "8qEZQYKhPc5A"
      },
      "execution_count": null,
      "outputs": []
    },
    {
      "cell_type": "code",
      "source": [
        "test_score"
      ],
      "metadata": {
        "colab": {
          "base_uri": "https://localhost:8080/"
        },
        "id": "lFwJlCOkRWU8",
        "outputId": "f3109d1c-2b91-4386-ed3f-4355566bb311"
      },
      "execution_count": null,
      "outputs": [
        {
          "output_type": "execute_result",
          "data": {
            "text/plain": [
              "0.78"
            ]
          },
          "metadata": {},
          "execution_count": 39
        }
      ]
    },
    {
      "cell_type": "code",
      "source": [
        "train_score"
      ],
      "metadata": {
        "colab": {
          "base_uri": "https://localhost:8080/"
        },
        "id": "WkGoO0YqRfOQ",
        "outputId": "9c4ddf15-fca6-4abc-af76-1c9fbbae6c97"
      },
      "execution_count": null,
      "outputs": [
        {
          "output_type": "execute_result",
          "data": {
            "text/plain": [
              "0.8025751072961373"
            ]
          },
          "metadata": {},
          "execution_count": 40
        }
      ]
    },
    {
      "cell_type": "code",
      "source": [
        "from sklearn.cluster import KMeans"
      ],
      "metadata": {
        "id": "XtAuf9djZz5S"
      },
      "execution_count": null,
      "outputs": []
    },
    {
      "cell_type": "code",
      "source": [
        "kmeans = KMeans(n_clusters=3)"
      ],
      "metadata": {
        "id": "XJqy59ltbU8l"
      },
      "execution_count": null,
      "outputs": []
    },
    {
      "cell_type": "code",
      "source": [
        "kmeans = kmeans.fit(X_train, y_train)\n",
        "y_pred_test = kmeans.predict(X_test)\n",
        "y_pred_train = kmeans.predict(X_train)\n"
      ],
      "metadata": {
        "id": "dDXbEgjHbh45"
      },
      "execution_count": null,
      "outputs": []
    },
    {
      "cell_type": "code",
      "source": [
        "test_score = accuracy_score(y_test, y_pred_test)\n",
        "train_score = accuracy_score(y_train, y_pred_train)"
      ],
      "metadata": {
        "id": "zC-mER0lcO9V"
      },
      "execution_count": null,
      "outputs": []
    },
    {
      "cell_type": "code",
      "source": [
        "test_score"
      ],
      "metadata": {
        "colab": {
          "base_uri": "https://localhost:8080/"
        },
        "id": "l0RCIKwLegpt",
        "outputId": "614d0c5e-da16-4107-ac67-ddb835ca9284"
      },
      "execution_count": null,
      "outputs": [
        {
          "output_type": "execute_result",
          "data": {
            "text/plain": [
              "0.14925373134328357"
            ]
          },
          "metadata": {},
          "execution_count": 81
        }
      ]
    },
    {
      "cell_type": "code",
      "source": [
        "train_score"
      ],
      "metadata": {
        "colab": {
          "base_uri": "https://localhost:8080/"
        },
        "id": "hQQJWSsAegW_",
        "outputId": "2bfbe075-2dcc-4fa6-a873-4c919280eac7"
      },
      "execution_count": null,
      "outputs": [
        {
          "output_type": "execute_result",
          "data": {
            "text/plain": [
              "0.09022556390977443"
            ]
          },
          "metadata": {},
          "execution_count": 82
        }
      ]
    },
    {
      "cell_type": "code",
      "source": [
        "from sklearn import metrics"
      ],
      "metadata": {
        "id": "f8Rbw8oJcueN"
      },
      "execution_count": null,
      "outputs": []
    },
    {
      "cell_type": "code",
      "source": [
        "metrics.rand_score(y_pred_test, y_pred)"
      ],
      "metadata": {
        "colab": {
          "base_uri": "https://localhost:8080/"
        },
        "id": "bjup_1dVckgn",
        "outputId": "6a73b64f-7589-4487-baef-d01fb0dfa5f6"
      },
      "execution_count": null,
      "outputs": [
        {
          "output_type": "execute_result",
          "data": {
            "text/plain": [
              "1.0"
            ]
          },
          "metadata": {},
          "execution_count": 90
        }
      ]
    }
  ]
}